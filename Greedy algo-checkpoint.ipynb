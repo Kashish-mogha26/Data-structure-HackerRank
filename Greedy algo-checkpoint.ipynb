{
 "cells": [
  {
   "cell_type": "markdown",
   "metadata": {},
   "source": [
    "# Maximum Activities"
   ]
  },
  {
   "cell_type": "code",
   "execution_count": 4,
   "metadata": {},
   "outputs": [
    {
     "name": "stdout",
     "output_type": "stream",
     "text": [
      "The following activities are selected\n",
      "0\n",
      "1\n",
      "3\n",
      "4\n"
     ]
    }
   ],
   "source": [
    "def printMaxActivities(s , f ): \n",
    "    n = len(f) \n",
    "    print(\"The following activities are selected\")\n",
    "  \n",
    "    # The first activity is always selected \n",
    "    i = 0\n",
    "    print (i), \n",
    "  \n",
    "    # Consider rest of the activities \n",
    "    for j in range(n): \n",
    "  \n",
    "        # If this activity has start time greater than \n",
    "        # or equal to the finish time of previously \n",
    "        # selected activity, then select it \n",
    "        if s[j] >= f[i]: \n",
    "            print (j), \n",
    "            i = j \n",
    "  \n",
    "# Driver program to test above function \n",
    "s = [1 , 3 , 0 , 5 , 8 , 5] \n",
    "f = [2 , 4 , 6 , 7 , 9 , 9] \n",
    "printMaxActivities(s , f) "
   ]
  },
  {
   "cell_type": "markdown",
   "metadata": {},
   "source": [
    "# Egyptian Fraction"
   ]
  },
  {
   "cell_type": "code",
   "execution_count": 3,
   "metadata": {},
   "outputs": [
    {
     "name": "stdout",
     "output_type": "stream",
     "text": [
      "The Egyptian Fraction Representation of 12/13 is\n",
      " 1/2 +  1/3 +  1/12 +  1/156 "
     ]
    }
   ],
   "source": [
    "import math\n",
    "def egyptianFraction(nr, dr): \n",
    "  \n",
    "    print(\"The Egyptian Fraction \" +\n",
    "          \"Representation of {0}/{1} is\". \n",
    "                format(nr, dr), end=\"\\n\") \n",
    "  \n",
    "    # empty list ef to store \n",
    "    # denominator \n",
    "    ef = [] \n",
    "    while nr != 0: \n",
    "  \n",
    "        # taking ceiling \n",
    "        x = math.ceil(dr / nr) \n",
    "  \n",
    "        # storing value in ef list \n",
    "        ef.append(x) \n",
    "  \n",
    "        # updating new nr and dr \n",
    "        nr = x * nr - dr \n",
    "        dr = dr * x \n",
    "  \n",
    "    # printing the values \n",
    "    for i in range(len(ef)): \n",
    "        if i != len(ef) - 1: \n",
    "            print(\" 1/{0} +\" .  \n",
    "                    format(ef[i]), end = \" \") \n",
    "        else: \n",
    "            print(\" 1/{0}\" . \n",
    "                    format(ef[i]), end = \" \") \n",
    "  \n",
    "egyptianFraction(12,13) "
   ]
  }
 ],
 "metadata": {
  "kernelspec": {
   "display_name": "Python 3",
   "language": "python",
   "name": "python3"
  },
  "language_info": {
   "codemirror_mode": {
    "name": "ipython",
    "version": 3
   },
   "file_extension": ".py",
   "mimetype": "text/x-python",
   "name": "python",
   "nbconvert_exporter": "python",
   "pygments_lexer": "ipython3",
   "version": "3.7.3"
  }
 },
 "nbformat": 4,
 "nbformat_minor": 2
}
