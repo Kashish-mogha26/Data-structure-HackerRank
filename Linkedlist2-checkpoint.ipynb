{
 "cells": [
  {
   "cell_type": "code",
   "execution_count": 9,
   "metadata": {},
   "outputs": [
    {
     "name": "stdout",
     "output_type": "stream",
     "text": [
      "kashi\n"
     ]
    }
   ],
   "source": [
    "print(\"kashi\")"
   ]
  },
  {
   "cell_type": "code",
   "execution_count": 47,
   "metadata": {},
   "outputs": [
    {
     "name": "stdout",
     "output_type": "stream",
     "text": [
      "3\n",
      "3\n",
      "2\n",
      "1\n",
      "2\n",
      "4\n",
      "5\n",
      "Merged list is:\n",
      "3\n",
      "2\n",
      "1\n",
      "4\n",
      "5\n"
     ]
    }
   ],
   "source": [
    "class Node:\n",
    "    def __init__ (self,data):\n",
    "        self.data=data\n",
    "        self.next=None\n",
    "class Linkedlist:\n",
    "    def __init__ (self):\n",
    "        self.head=None\n",
    "        \n",
    "    def append(self,data):\n",
    "        new_node=Node(data)\n",
    "        if self.head is None:\n",
    "            self.head=new_node\n",
    "            return\n",
    "        last_node=self.head\n",
    "        while last_node.next:\n",
    "            last_node=last_node.next\n",
    "        last_node.next=new_node\n",
    "    def reverse(self): \n",
    "        prev = None\n",
    "        current = self.head \n",
    "        while(current is not None): \n",
    "            next = current.next\n",
    "            current.next = prev \n",
    "            prev = current \n",
    "            current = next\n",
    "        self.head = prev\n",
    "    def mergeLists(self,List):\n",
    "        p=self.head\n",
    "        q=List.head\n",
    "        s=None\n",
    "        if not p:\n",
    "            return q\n",
    "        if not q:\n",
    "            return p\n",
    "        if p and q:\n",
    "            if p.data<=q.data:\n",
    "                s=p\n",
    "                p=s.next\n",
    "            else:\n",
    "                s=q\n",
    "                q=s.next\n",
    "            new_head=s\n",
    "        while p and q:\n",
    "            if p.data<=q.data:\n",
    "                s.next=p\n",
    "                s=p\n",
    "                p=s.next\n",
    "            else:\n",
    "                s.next=q\n",
    "                s=q\n",
    "                q=s.next\n",
    "        if not p:\n",
    "            s.next=q\n",
    "        if not q:\n",
    "            s.next=p\n",
    "        return new_head\n",
    "        \n",
    "    def printlist(self):\n",
    "        cur_node=self.head\n",
    "        while cur_node:\n",
    "            print(cur_node.data)\n",
    "            cur_node=cur_node.next\n",
    "            \n",
    "if __name__=='__main__':\n",
    "    listcount1=int(input())\n",
    "    List1=Linkedlist()\n",
    "    for i in range(listcount1):\n",
    "        listitem=int(input())\n",
    "        List1.append(listitem)\n",
    "        \n",
    "    listcount2=int(input())\n",
    "    List2=Linkedlist()\n",
    "    for i in range(listcount2):\n",
    "        listitem=int(input())\n",
    "        List2.append(listitem)\n",
    "        \n",
    "    print(\"Merged list is:\")\n",
    "    List1.mergeLists(List2)\n",
    "    #List.reverse()\n",
    "    List1.printlist()\n",
    "    \n",
    "        "
   ]
  },
  {
   "cell_type": "code",
   "execution_count": null,
   "metadata": {},
   "outputs": [],
   "source": []
  }
 ],
 "metadata": {
  "kernelspec": {
   "display_name": "Python 3",
   "language": "python",
   "name": "python3"
  },
  "language_info": {
   "codemirror_mode": {
    "name": "ipython",
    "version": 3
   },
   "file_extension": ".py",
   "mimetype": "text/x-python",
   "name": "python",
   "nbconvert_exporter": "python",
   "pygments_lexer": "ipython3",
   "version": "3.7.3"
  }
 },
 "nbformat": 4,
 "nbformat_minor": 2
}
