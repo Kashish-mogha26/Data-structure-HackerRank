{
 "cells": [
  {
   "cell_type": "markdown",
   "metadata": {},
   "source": [
    "# Linked List:\n",
    "    1)Append\n",
    "    2)Prepend\n",
    "    3)Inbetween insertion\n",
    "    4)Insertion at position\n",
    "    5)Deletion\n",
    "    6)Printing list"
   ]
  },
  {
   "cell_type": "code",
   "execution_count": 2,
   "metadata": {},
   "outputs": [
    {
     "name": "stdout",
     "output_type": "stream",
     "text": [
      "5\n",
      "23\n",
      "76\n",
      "12\n",
      "45\n",
      "10\n",
      "23\n",
      "76\n",
      "12\n",
      "10\n"
     ]
    }
   ],
   "source": [
    "class Node:\n",
    "    def __init__ (self,data):\n",
    "        self.data=data\n",
    "        self.next=None\n",
    "class Linkedlist:\n",
    "    def __init__ (self):\n",
    "        self.head=None\n",
    "        \n",
    "    def append(self,data):\n",
    "        new_node=Node(data)\n",
    "        if self.head is None:\n",
    "            self.head=new_node\n",
    "            return\n",
    "        last_node=self.head\n",
    "        while last_node.next:\n",
    "            last_node=last_node.next\n",
    "        last_node.next=new_node\n",
    "        \n",
    "    def prepend(self,data):\n",
    "        new_node=Node(data)\n",
    "        new_node.next=self.head\n",
    "        self.head=new_node\n",
    "        \n",
    "    def inbetween(self,prev,data):\n",
    "        if not prev:\n",
    "            print(\"Previous node doesn't exist\")\n",
    "            return\n",
    "        new_node=Node(data)\n",
    "        new_node.next=prev.next\n",
    "        prev.next=new_node\n",
    "        \n",
    "    def insertnode(self,data,position):\n",
    "        new_node=Node(data)\n",
    "        count=0\n",
    "        current=self.head\n",
    "        while (count)!=(position-1):\n",
    "            current=current.next\n",
    "            count=count+1\n",
    "        new_node.next=current.next\n",
    "        current.next=new_node\n",
    "        return self.head\n",
    "    \n",
    "    \n",
    "    def delete(self,position):\n",
    "        count=0\n",
    "        current=self.head\n",
    "        if position==0:\n",
    "            self.head=current.next\n",
    "            current=None\n",
    "        else:\n",
    "            while count!=(position-1):\n",
    "                count=count+1\n",
    "                current=current.next\n",
    "            temp=current.next\n",
    "            current.next=temp.next\n",
    "            temp=None\n",
    "        return self.head\n",
    "\n",
    "        \n",
    "    def printlist(self):\n",
    "        cur_node=self.head\n",
    "        while cur_node:\n",
    "            print(cur_node.data)\n",
    "            cur_node=cur_node.next\n",
    "            \n",
    "if __name__=='__main__':\n",
    "    listcount=int(input())\n",
    "    List=Linkedlist()\n",
    "    for i in range(listcount):\n",
    "        listitem=int(input())\n",
    "        List.append(listitem)\n",
    "        \n",
    "    #List.printlist()\n",
    "    #List.insertnode(27,1)\n",
    "    List.delete(3)\n",
    "    List.printlist()\n",
    "    \n",
    "        \n",
    "        "
   ]
  },
  {
   "cell_type": "code",
   "execution_count": null,
   "metadata": {},
   "outputs": [],
   "source": []
  }
 ],
 "metadata": {
  "kernelspec": {
   "display_name": "Python 3",
   "language": "python",
   "name": "python3"
  },
  "language_info": {
   "codemirror_mode": {
    "name": "ipython",
    "version": 3
   },
   "file_extension": ".py",
   "mimetype": "text/x-python",
   "name": "python",
   "nbconvert_exporter": "python",
   "pygments_lexer": "ipython3",
   "version": "3.7.3"
  }
 },
 "nbformat": 4,
 "nbformat_minor": 2
}
